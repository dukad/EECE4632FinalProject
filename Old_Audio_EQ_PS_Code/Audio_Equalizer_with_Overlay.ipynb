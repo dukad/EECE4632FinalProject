{
 "cells": [
  {
   "cell_type": "markdown",
   "id": "7a0e6c36",
   "metadata": {},
   "source": [
    "## Wavefile Read/Write\n",
    "\n",
    "Open and read a wavefile"
   ]
  },
  {
   "cell_type": "code",
   "execution_count": 2,
   "id": "586226ec",
   "metadata": {},
   "outputs": [
    {
     "name": "stdout",
     "output_type": "stream",
     "text": [
      "Done\n"
     ]
    }
   ],
   "source": [
    "import wave\n",
    "import numpy as np\n",
    "import matplotlib.pyplot as plt\n",
    "\n",
    "signal_input_file_path = './electric_guitar_sample.wav'\n",
    "signal_output_file_path = './outputs/unaltered_output.wav'\n",
    "\n",
    "class Audio_Signal:\n",
    "    def __init__(self, input_file_path, output_file_path):\n",
    "        self.input_file_path = input_file_path\n",
    "        self.output_file_path = output_file_path\n",
    "\n",
    "    def load_audio(self):\n",
    "        audio_signal = wave.open(self.input_file_path, 'r')\n",
    "        \n",
    "        self.frame_count = audio_signal.getnframes()\n",
    "        self.channel_count = audio_signal.getnchannels()\n",
    "        self.sample_width = audio_signal.getsampwidth()\n",
    "        self.sample_rate = audio_signal.getframerate()\n",
    "        self.frame_rate = audio_signal.getframerate() * 2\n",
    "\n",
    "        self.audio_frames = audio_signal.readframes(self.frame_count)\n",
    "        self.audio_frames = np.frombuffer(self.audio_frames, dtype = np.int16)\n",
    "    \n",
    "    def write_to_wav_file(self):\n",
    "        output_file = wave.open(self.output_file_path, 'w')\n",
    "        \n",
    "        output_file.setnchannels(self.channel_count)\n",
    "        output_file.setsampwidth(self.sample_width)\n",
    "        output_file.setframerate(self.sample_rate)\n",
    "        output_file.writeframes(self.audio_frames)\n",
    "        \n",
    "        output_file.close()\n",
    "    \n",
    "    def plot_audio_data(self):\n",
    "        audio_length = len(self.audio_frames)\n",
    "\n",
    "        self.time_signal = np.linspace(0, audio_length / self.frame_rate, num = audio_length)\n",
    "\n",
    "        plt.figure()\n",
    "        plt.plot(self.time_signal, self.audio_frames)\n",
    "        plt.xlabel(\"Time (s)\")\n",
    "        plt.ylabel(\"Signal Amplitude\")\n",
    "\n",
    "        plt.show()\n",
    "    \n",
    "    def get_sample_rate(self):\n",
    "        pass\n",
    "\n",
    "print(\"Done\")"
   ]
  },
  {
   "cell_type": "code",
   "execution_count": 11,
   "id": "5b09f107",
   "metadata": {},
   "outputs": [
    {
     "name": "stdout",
     "output_type": "stream",
     "text": [
      "Done\n"
     ]
    }
   ],
   "source": [
    "from scipy.signal import kaiserord, firwin, freqz\n",
    "from pylab import figure, plot, title, grid, xlabel, ylabel\n",
    "\n",
    "class Filter:\n",
    "    def __init__(self, filter_type='empty', nyquist_rate=22050, stop_band_attentuation_dB=10, low_transition_freq=400, high_transition_freq=4000):\n",
    "        #! Adjust stop_band_attentuation_dB to control signal equalization\n",
    "        self.filter_type = filter_type\n",
    "        self.nyquist_rate = nyquist_rate\n",
    "        self.transition_width = 200 / nyquist_rate #! Assign 5000 value to variable\n",
    "        self.stop_band_attenuation_dB = stop_band_attentuation_dB\n",
    "        self.low_transition_freq = low_transition_freq\n",
    "        self.high_transition_freq = high_transition_freq\n",
    "        \n",
    "        self.filter_coefs = []\n",
    "\n",
    "        self.calculate_filter_order()\n",
    "        self.generate_filter_coefs()\n",
    "    \n",
    "    def calculate_filter_order(self):\n",
    "        self.FIR_order, self.beta = kaiserord(self.stop_band_attenuation_dB, self.transition_width)\n",
    "        self.FIR_order *= 3\n",
    "        if self.FIR_order % 2 == 0:\n",
    "            self.FIR_order += 1\n",
    "    \n",
    "    def generate_filter_coefs(self):\n",
    "        if self.filter_type == \"low\":\n",
    "            self.generate_lowfreq_filter()\n",
    "        elif self.filter_type == \"mid\":\n",
    "            self.generate_midfreq_filter()\n",
    "        elif self.filter_type == \"high\":\n",
    "            self.generate_highfreq_filter()\n",
    "        elif self.filter_type == 'empty':\n",
    "            pass\n",
    "    \n",
    "    def generate_lowfreq_filter(self):\n",
    "        self.filter_coefs = firwin(self.FIR_order, self.low_transition_freq, pass_zero='lowpass', fs=self.nyquist_rate*2)\n",
    "\n",
    "    def generate_midfreq_filter(self):\n",
    "        self.filter_coefs = firwin(self.FIR_order, [self.low_transition_freq / self.nyquist_rate, self.high_transition_freq / self.nyquist_rate], pass_zero='bandpass')\n",
    "\n",
    "    def generate_highfreq_filter(self):\n",
    "        self.filter_coefs = firwin(self.FIR_order, self.high_transition_freq, pass_zero='highpass', fs=self.nyquist_rate*2)\n",
    "\n",
    "    def write_coefs_to_file(self):\n",
    "        #! Not sure if this is how to change the filter coefficients in block memory\n",
    "        pass\n",
    "\n",
    "    def plot_filter(self):\n",
    "        figure()\n",
    "        w, h = freqz(self.filter_coefs, worN=8000)\n",
    "        plot((w/np.pi)*self.nyquist_rate, np.absolute(h), linewidth=2)\n",
    "        title('Filter Curves')\n",
    "        xlabel(\"Frequency\")\n",
    "        ylabel(\"Filter Gain\")\n",
    "        grid(True)\n",
    "\n",
    "print(\"Done\")"
   ]
  },
  {
   "cell_type": "code",
   "execution_count": 12,
   "id": "ab07b959",
   "metadata": {},
   "outputs": [],
   "source": [
    "input_signal = Audio_Signal(signal_input_file_path, signal_output_file_path)\n",
    "\n",
    "input_signal.load_audio()"
   ]
  },
  {
   "cell_type": "code",
   "execution_count": 13,
   "id": "a6df21e9",
   "metadata": {},
   "outputs": [
    {
     "data": {
      "image/png": "[encoded data removed]",
      "text/plain": [
       "<Figure size 432x288 with 1 Axes>"
      ]
     },
     "metadata": {
      "needs_background": "light"
     },
     "output_type": "display_data"
    }
   ],
   "source": [
    "lowfreq_filter = Filter('low')\n",
    "midfreq_filter = Filter('mid')\n",
    "highfreq_filter = Filter('high')\n",
    "\n",
    "# lowfreq_filter.plot_filter()\n",
    "# midfreq_filter.plot_filter()\n",
    "# highfreq_filter.plot_filter()\n",
    "\n",
    "new_filter = Filter()\n",
    "new_filter.filter_coefs = lowfreq_filter.filter_coefs * 0.6 + midfreq_filter.filter_coefs * 0.3 + highfreq_filter.filter_coefs * 0.4\n",
    "new_filter.plot_filter()"
   ]
  },
  {
   "cell_type": "code",
   "execution_count": 1,
   "id": "72e99fa4",
   "metadata": {},
   "outputs": [
    {
     "data": {
      "application/javascript": [
       "\n",
       "try {\n",
       "require(['notebook/js/codecell'], function(codecell) {\n",
       "  codecell.CodeCell.options_default.highlight_modes[\n",
       "      'magic_text/x-csrc'] = {'reg':[/^%%microblaze/]};\n",
       "  Jupyter.notebook.events.one('kernel_ready.Kernel', function(){\n",
       "      Jupyter.notebook.get_cells().map(function(cell){\n",
       "          if (cell.cell_type == 'code'){ cell.auto_highlight(); } }) ;\n",
       "  });\n",
       "});\n",
       "} catch (e) {};\n"
      ]
     },
     "metadata": {},
     "output_type": "display_data"
    },
    {
     "data": {
      "application/javascript": [
       "\n",
       "try {\n",
       "require(['notebook/js/codecell'], function(codecell) {\n",
       "  codecell.CodeCell.options_default.highlight_modes[\n",
       "      'magic_text/x-csrc'] = {'reg':[/^%%pybind11/]};\n",
       "  Jupyter.notebook.events.one('kernel_ready.Kernel', function(){\n",
       "      Jupyter.notebook.get_cells().map(function(cell){\n",
       "          if (cell.cell_type == 'code'){ cell.auto_highlight(); } }) ;\n",
       "  });\n",
       "});\n",
       "} catch (e) {};\n"
      ]
     },
     "metadata": {},
     "output_type": "display_data"
    }
   ],
   "source": [
    "from pynq import Overlay\n",
    "import numpy as np\n",
    "import random\n",
    "from pynq import allocate\n",
    "\n",
    "overlay = Overlay('/home/xilinx/pynq/overlays/equalizer/equalizer.bit')\n",
    "overlay?"
   ]
  },
  {
   "cell_type": "markdown",
   "id": "7c975e0a",
   "metadata": {},
   "source": [
    "## Hardware Function Testing with Audio File Input"
   ]
  },
  {
   "cell_type": "code",
   "execution_count": null,
   "id": "4efa2fdd",
   "metadata": {},
   "outputs": [],
   "source": [
    "dma = overlay.equalizerDMA.axi_dma_0\n",
    "input_buffer = allocate(shape=(99+2+len(),), dtype=np.uint32)\n",
    "output_buffer = allocate(shape=(len(),), dtype=np.uint32)"
   ]
  },
  {
   "cell_type": "markdown",
   "id": "6c13a868",
   "metadata": {},
   "source": [
    "## Hardware Function Testing with Sample Input"
   ]
  },
  {
   "cell_type": "code",
   "execution_count": 6,
   "id": "d5ff9718",
   "metadata": {},
   "outputs": [],
   "source": [
    "dma = overlay.equalizerDMA.axi_dma_0\n",
    "input_buffer = allocate(shape=(200,), dtype=np.uint32)\n",
    "output_buffer = allocate(shape=(99,), dtype=np.uint32)"
   ]
  },
  {
   "cell_type": "code",
   "execution_count": 7,
   "id": "e54416ee",
   "metadata": {},
   "outputs": [
    {
     "name": "stdout",
     "output_type": "stream",
     "text": [
      "[48879     0     1     2     3     4     5     6     7     8     9    10\n",
      "    11    12    13    14    15    16    17    18    19    20    21    22\n",
      "    23    24    25    26    27    28    29    30    31    32    33    34\n",
      "    35    36    37    38    39    40    41    42    43    44    45    46\n",
      "    47    48    49    50    51    52    53    54    55    56    57    58\n",
      "    59    60    61    62    63    64    65    66    67    68    69    70\n",
      "    71    72    73    74    75    76    77    78    79    80    81    82\n",
      "    83    84    85    86    87    88    89    90    91    92    93    94\n",
      "    95    96    97    98 43962     1     1     1     1     1     1     1\n",
      "     1     1     1     1     1     1     1     1     1     1     1     1\n",
      "     1     1     1     1     1     1     1     1     1     1     1     1\n",
      "     1     1     1     1     1     1     1     1     1     1     1     1\n",
      "     1     1     1     1     1     1     1     1     1     1     1     1\n",
      "     1     1     1     1     1     1     1     1     1     1     1     1\n",
      "     1     1     1     1     1     1     1     1     1     1     1     1\n",
      "     1     1     1     1     1     1     1     1     1     1     1     1\n",
      "     1     1     1     1     1     1     1     1]\n"
     ]
    }
   ],
   "source": [
    "input_buffer[0] = 0xBEEF\n",
    "\n",
    "for i in range(99):\n",
    "    input_buffer[i + 1] = i\n",
    "\n",
    "input_buffer[100] = 0xABBA\n",
    "\n",
    "for i in range(99):\n",
    "    input_buffer[i + 101] = 1\n",
    "\n",
    "print(input_buffer)"
   ]
  },
  {
   "cell_type": "code",
   "execution_count": 8,
   "id": "6599fae6",
   "metadata": {},
   "outputs": [],
   "source": [
    "def run_kernel():\n",
    "    print(0)\n",
    "    dma.sendchannel.transfer(input_buffer)\n",
    "    print(1)\n",
    "    dma.recvchannel.transfer(output_buffer)\n",
    "    print(2)\n",
    "    dma.sendchannel.wait()\n",
    "    print(3)\n",
    "    dma.recvchannel.wait()\n",
    "    print(4)"
   ]
  },
  {
   "cell_type": "code",
   "execution_count": 9,
   "id": "f84ca8fd",
   "metadata": {},
   "outputs": [
    {
     "name": "stdout",
     "output_type": "stream",
     "text": [
      "0\n",
      "1\n",
      "2\n",
      "3\n",
      "4\n"
     ]
    }
   ],
   "source": [
    "run_kernel()"
   ]
  },
  {
   "cell_type": "code",
   "execution_count": 10,
   "id": "e9a9446f",
   "metadata": {},
   "outputs": [
    {
     "name": "stdout",
     "output_type": "stream",
     "text": [
      "[  0   1   3   6  10  15  21  28  36  45  55  66  78  91 105 120 136 153\n",
      " 171 190 210 231 253 276 300 325 351 378 406 435 465 496 528 528 528 528\n",
      " 528 528 528 528 528 528 528 528 528 528 528 528 528 528 528 528 528 528\n",
      " 528 528 528 528 528 528 528 528 528 528 528 528 528 528 528 528 528 528\n",
      " 528 528 528 528 528 528 528 528 528 528 528 528 528 528 528 528 528 528\n",
      " 528 528 528 528 528 528 528 528 528]\n"
     ]
    }
   ],
   "source": [
    "print(output_buffer)"
   ]
  }
 ],
 "metadata": {
  "kernelspec": {
   "display_name": "Python 3 (ipykernel)",
   "language": "python",
   "name": "python3"
  },
  "language_info": {
   "codemirror_mode": {
    "name": "ipython",
    "version": 3
   },
   "file_extension": ".py",
   "mimetype": "text/x-python",
   "name": "python",
   "nbconvert_exporter": "python",
   "pygments_lexer": "ipython3",
   "version": "3.10.4"
  }
 },
 "nbformat": 4,
 "nbformat_minor": 5
}
