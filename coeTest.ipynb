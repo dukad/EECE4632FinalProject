{
 "cells": [
  {
   "cell_type": "code",
   "execution_count": 1,
   "id": "6ed3e239",
   "metadata": {
    "scrolled": true
   },
   "outputs": [
    {
     "data": {
      "application/javascript": [
       "\n",
       "try {\n",
       "require(['notebook/js/codecell'], function(codecell) {\n",
       "  codecell.CodeCell.options_default.highlight_modes[\n",
       "      'magic_text/x-csrc'] = {'reg':[/^%%microblaze/]};\n",
       "  Jupyter.notebook.events.one('kernel_ready.Kernel', function(){\n",
       "      Jupyter.notebook.get_cells().map(function(cell){\n",
       "          if (cell.cell_type == 'code'){ cell.auto_highlight(); } }) ;\n",
       "  });\n",
       "});\n",
       "} catch (e) {};\n"
      ]
     },
     "metadata": {},
     "output_type": "display_data"
    },
    {
     "data": {
      "application/javascript": [
       "\n",
       "try {\n",
       "require(['notebook/js/codecell'], function(codecell) {\n",
       "  codecell.CodeCell.options_default.highlight_modes[\n",
       "      'magic_text/x-csrc'] = {'reg':[/^%%pybind11/]};\n",
       "  Jupyter.notebook.events.one('kernel_ready.Kernel', function(){\n",
       "      Jupyter.notebook.get_cells().map(function(cell){\n",
       "          if (cell.cell_type == 'code'){ cell.auto_highlight(); } }) ;\n",
       "  });\n",
       "});\n",
       "} catch (e) {};\n"
      ]
     },
     "metadata": {},
     "output_type": "display_data"
    },
    {
     "ename": "RuntimeError",
     "evalue": "Unable to parse metadata",
     "output_type": "error",
     "traceback": [
      "\u001b[0;31m---------------------------------------------------------------------------\u001b[0m",
      "\u001b[0;31mFileNotFoundError\u001b[0m                         Traceback (most recent call last)",
      "File \u001b[0;32m/usr/local/share/pynq-venv/lib/python3.10/site-packages/pynq/pl_server/embedded_device.py:252\u001b[0m, in \u001b[0;36mBitstreamHandler.get_parser\u001b[0;34m(self, partial)\u001b[0m\n\u001b[1;32m    251\u001b[0m \u001b[38;5;28;01mtry\u001b[39;00m:\n\u001b[0;32m--> 252\u001b[0m     parser \u001b[38;5;241m=\u001b[39m \u001b[38;5;28;43mself\u001b[39;49m\u001b[38;5;241;43m.\u001b[39;49m\u001b[43m_get_cache\u001b[49m\u001b[43m(\u001b[49m\u001b[43m)\u001b[49m \n\u001b[1;32m    253\u001b[0m \u001b[38;5;28;01mexcept\u001b[39;00m CacheMetadataError:\n",
      "File \u001b[0;32m/usr/local/share/pynq-venv/lib/python3.10/site-packages/pynq/pl_server/embedded_device.py:205\u001b[0m, in \u001b[0;36mBitstreamHandler._get_cache\u001b[0;34m(self)\u001b[0m\n\u001b[1;32m    204\u001b[0m \u001b[38;5;124;03m\"\"\" Tries to return the Cached data \"\"\"\u001b[39;00m\n\u001b[0;32m--> 205\u001b[0m \u001b[38;5;28;01mif\u001b[39;00m \u001b[38;5;28;43mself\u001b[39;49m\u001b[38;5;241;43m.\u001b[39;49m\u001b[43m_cache_exists\u001b[49m\u001b[43m(\u001b[49m\u001b[43m)\u001b[49m:\n\u001b[1;32m    206\u001b[0m     metadata_state_file \u001b[38;5;241m=\u001b[39m Path(\u001b[38;5;124mf\u001b[39m\u001b[38;5;124m\"\u001b[39m\u001b[38;5;132;01m{\u001b[39;00mos\u001b[38;5;241m.\u001b[39mpath\u001b[38;5;241m.\u001b[39mdirname(\u001b[38;5;18m__file__\u001b[39m)\u001b[38;5;132;01m}\u001b[39;00m\u001b[38;5;124m/_current_metadata.pkl\u001b[39m\u001b[38;5;124m\"\u001b[39m)\n",
      "File \u001b[0;32m/usr/local/share/pynq-venv/lib/python3.10/site-packages/pynq/pl_server/embedded_device.py:192\u001b[0m, in \u001b[0;36mBitstreamHandler._cache_exists\u001b[0;34m(self)\u001b[0m\n\u001b[1;32m    191\u001b[0m \u001b[38;5;28;01mif\u001b[39;00m global_state_file_exists():\n\u001b[0;32m--> 192\u001b[0m     glob_state \u001b[38;5;241m=\u001b[39m \u001b[43mload_global_state\u001b[49m\u001b[43m(\u001b[49m\u001b[43m)\u001b[49m\n\u001b[1;32m    193\u001b[0m     \u001b[38;5;28;01mreturn\u001b[39;00m glob_state\u001b[38;5;241m.\u001b[39mbitfile_hash \u001b[38;5;241m==\u001b[39m bitstream_hash(\u001b[38;5;28mself\u001b[39m\u001b[38;5;241m.\u001b[39m_filepath)\n",
      "File \u001b[0;32m/usr/local/share/pynq-venv/lib/python3.10/site-packages/pynq/pl_server/global_state.py:91\u001b[0m, in \u001b[0;36mload_global_state\u001b[0;34m()\u001b[0m\n\u001b[1;32m     90\u001b[0m     jdict \u001b[38;5;241m=\u001b[39m json\u001b[38;5;241m.\u001b[39mload(state_file)\n\u001b[0;32m---> 91\u001b[0m     \u001b[38;5;28;01mreturn\u001b[39;00m \u001b[43mGlobalState\u001b[49m\u001b[38;5;241;43m.\u001b[39;49m\u001b[43mparse_obj\u001b[49m\u001b[43m(\u001b[49m\u001b[43mjdict\u001b[49m\u001b[43m)\u001b[49m\n\u001b[1;32m     92\u001b[0m \u001b[38;5;28;01mreturn\u001b[39;00m \u001b[38;5;28;01mNone\u001b[39;00m\n",
      "File \u001b[0;32m/usr/local/share/pynq-venv/lib/python3.10/site-packages/pydantic/main.py:521\u001b[0m, in \u001b[0;36mBaseModel.parse_obj\u001b[0;34m(cls, obj)\u001b[0m\n\u001b[1;32m    520\u001b[0m         \u001b[38;5;28;01mraise\u001b[39;00m ValidationError([ErrorWrapper(exc, loc\u001b[38;5;241m=\u001b[39mROOT_KEY)], \u001b[38;5;28mcls\u001b[39m) \u001b[38;5;28;01mfrom\u001b[39;00m \u001b[38;5;21;01me\u001b[39;00m\n\u001b[0;32m--> 521\u001b[0m \u001b[38;5;28;01mreturn\u001b[39;00m \u001b[38;5;28;43mcls\u001b[39;49m\u001b[43m(\u001b[49m\u001b[38;5;241;43m*\u001b[39;49m\u001b[38;5;241;43m*\u001b[39;49m\u001b[43mobj\u001b[49m\u001b[43m)\u001b[49m\n",
      "File \u001b[0;32m/usr/local/share/pynq-venv/lib/python3.10/site-packages/pynq/pl_server/global_state.py:49\u001b[0m, in \u001b[0;36mGlobalState.__init__\u001b[0;34m(self, **kwargs)\u001b[0m\n\u001b[1;32m     48\u001b[0m \u001b[38;5;28msuper\u001b[39m()\u001b[38;5;241m.\u001b[39m\u001b[38;5;21m__init__\u001b[39m(\u001b[38;5;241m*\u001b[39m\u001b[38;5;241m*\u001b[39mkwargs)\n\u001b[0;32m---> 49\u001b[0m \u001b[38;5;28mself\u001b[39m\u001b[38;5;241m.\u001b[39mbitfile_hash \u001b[38;5;241m=\u001b[39m \u001b[43mbitstream_hash\u001b[49m\u001b[43m(\u001b[49m\u001b[38;5;28;43mself\u001b[39;49m\u001b[38;5;241;43m.\u001b[39;49m\u001b[43mbitfile_name\u001b[49m\u001b[43m)\u001b[49m\n",
      "File \u001b[0;32m/usr/local/share/pynq-venv/lib/python3.10/site-packages/pynq/pl_server/global_state.py:22\u001b[0m, in \u001b[0;36mbitstream_hash\u001b[0;34m(filename)\u001b[0m\n\u001b[1;32m     21\u001b[0m h \u001b[38;5;241m=\u001b[39m hashlib\u001b[38;5;241m.\u001b[39msha1()\n\u001b[0;32m---> 22\u001b[0m \u001b[38;5;28;01mwith\u001b[39;00m \u001b[38;5;28;43mopen\u001b[39;49m\u001b[43m(\u001b[49m\u001b[43mfilename\u001b[49m\u001b[43m,\u001b[49m\u001b[43m \u001b[49m\u001b[38;5;124;43m'\u001b[39;49m\u001b[38;5;124;43mrb\u001b[39;49m\u001b[38;5;124;43m'\u001b[39;49m\u001b[43m)\u001b[49m \u001b[38;5;28;01mas\u001b[39;00m file:\n\u001b[1;32m     23\u001b[0m     chunk\u001b[38;5;241m=\u001b[39m\u001b[38;5;241m0\u001b[39m\n",
      "\u001b[0;31mFileNotFoundError\u001b[0m: [Errno 2] No such file or directory: '/home/xilinx/pynq/overlays/coeTest/coeTest.bit'",
      "\nDuring handling of the above exception, another exception occurred:\n",
      "\u001b[0;31mRuntimeError\u001b[0m                              Traceback (most recent call last)",
      "Input \u001b[0;32mIn [1]\u001b[0m, in \u001b[0;36m<cell line: 6>\u001b[0;34m()\u001b[0m\n\u001b[1;32m      3\u001b[0m \u001b[38;5;28;01mimport\u001b[39;00m \u001b[38;5;21;01mrandom\u001b[39;00m\n\u001b[1;32m      4\u001b[0m \u001b[38;5;28;01mfrom\u001b[39;00m \u001b[38;5;21;01mpynq\u001b[39;00m \u001b[38;5;28;01mimport\u001b[39;00m allocate\n\u001b[0;32m----> 6\u001b[0m overlay \u001b[38;5;241m=\u001b[39m \u001b[43mOverlay\u001b[49m\u001b[43m(\u001b[49m\u001b[38;5;124;43m'\u001b[39;49m\u001b[38;5;124;43m/home/xilinx/pynq/overlays/coe_Test/coe_Test.bit\u001b[39;49m\u001b[38;5;124;43m'\u001b[39;49m\u001b[43m)\u001b[49m\n\u001b[1;32m      7\u001b[0m get_ipython()\u001b[38;5;241m.\u001b[39mrun_line_magic(\u001b[38;5;124m'\u001b[39m\u001b[38;5;124mpinfo\u001b[39m\u001b[38;5;124m'\u001b[39m, \u001b[38;5;124m'\u001b[39m\u001b[38;5;124moverlay\u001b[39m\u001b[38;5;124m'\u001b[39m)\n",
      "File \u001b[0;32m/usr/local/share/pynq-venv/lib/python3.10/site-packages/pynq/overlay.py:319\u001b[0m, in \u001b[0;36mOverlay.__init__\u001b[0;34m(self, bitfile_name, dtbo, download, ignore_version, device, gen_cache)\u001b[0m\n\u001b[1;32m    315\u001b[0m \u001b[38;5;28msuper\u001b[39m()\u001b[38;5;241m.\u001b[39m\u001b[38;5;21m__init__\u001b[39m(bitfile_name, dtbo, partial\u001b[38;5;241m=\u001b[39m\u001b[38;5;28;01mFalse\u001b[39;00m, device\u001b[38;5;241m=\u001b[39mdevice)\n\u001b[1;32m    317\u001b[0m \u001b[38;5;28mself\u001b[39m\u001b[38;5;241m.\u001b[39m_register_drivers()\n\u001b[0;32m--> 319\u001b[0m \u001b[38;5;28;43mself\u001b[39;49m\u001b[38;5;241;43m.\u001b[39;49m\u001b[43mdevice\u001b[49m\u001b[38;5;241;43m.\u001b[39;49m\u001b[43mset_bitfile_name\u001b[49m\u001b[43m(\u001b[49m\u001b[38;5;28;43mself\u001b[39;49m\u001b[38;5;241;43m.\u001b[39;49m\u001b[43mbitfile_name\u001b[49m\u001b[43m)\u001b[49m\n\u001b[1;32m    320\u001b[0m \u001b[38;5;28mself\u001b[39m\u001b[38;5;241m.\u001b[39mparser \u001b[38;5;241m=\u001b[39m \u001b[38;5;28mself\u001b[39m\u001b[38;5;241m.\u001b[39mdevice\u001b[38;5;241m.\u001b[39mparser\n\u001b[1;32m    322\u001b[0m \u001b[38;5;28mself\u001b[39m\u001b[38;5;241m.\u001b[39mip_dict \u001b[38;5;241m=\u001b[39m (\n\u001b[1;32m    323\u001b[0m     \u001b[38;5;28mself\u001b[39m\u001b[38;5;241m.\u001b[39mgpio_dict\n\u001b[1;32m    324\u001b[0m ) \u001b[38;5;241m=\u001b[39m (\n\u001b[1;32m    325\u001b[0m     \u001b[38;5;28mself\u001b[39m\u001b[38;5;241m.\u001b[39minterrupt_controllers\n\u001b[1;32m    326\u001b[0m ) \u001b[38;5;241m=\u001b[39m \u001b[38;5;28mself\u001b[39m\u001b[38;5;241m.\u001b[39minterrupt_pins \u001b[38;5;241m=\u001b[39m \u001b[38;5;28mself\u001b[39m\u001b[38;5;241m.\u001b[39mhierarchy_dict \u001b[38;5;241m=\u001b[39m \u001b[38;5;28mdict\u001b[39m()\n",
      "File \u001b[0;32m/usr/local/share/pynq-venv/lib/python3.10/site-packages/pynq/pl_server/device.py:118\u001b[0m, in \u001b[0;36mDevice.set_bitfile_name\u001b[0;34m(self, bitfile_name)\u001b[0m\n\u001b[1;32m    116\u001b[0m \u001b[38;5;28;01mdef\u001b[39;00m \u001b[38;5;21mset_bitfile_name\u001b[39m(\u001b[38;5;28mself\u001b[39m, bitfile_name: \u001b[38;5;28mstr\u001b[39m) \u001b[38;5;241m-\u001b[39m\u001b[38;5;241m>\u001b[39m \u001b[38;5;28;01mNone\u001b[39;00m:\n\u001b[1;32m    117\u001b[0m     \u001b[38;5;28mself\u001b[39m\u001b[38;5;241m.\u001b[39mbitfile_name \u001b[38;5;241m=\u001b[39m bitfile_name\n\u001b[0;32m--> 118\u001b[0m     \u001b[38;5;28mself\u001b[39m\u001b[38;5;241m.\u001b[39mparser \u001b[38;5;241m=\u001b[39m \u001b[38;5;28;43mself\u001b[39;49m\u001b[38;5;241;43m.\u001b[39;49m\u001b[43mget_bitfile_metadata\u001b[49m\u001b[43m(\u001b[49m\u001b[38;5;28;43mself\u001b[39;49m\u001b[38;5;241;43m.\u001b[39;49m\u001b[43mbitfile_name\u001b[49m\u001b[43m)\u001b[49m\n\u001b[1;32m    119\u001b[0m     \u001b[38;5;28mself\u001b[39m\u001b[38;5;241m.\u001b[39mmem_dict \u001b[38;5;241m=\u001b[39m \u001b[38;5;28mself\u001b[39m\u001b[38;5;241m.\u001b[39mparser\u001b[38;5;241m.\u001b[39mmem_dict\n\u001b[1;32m    120\u001b[0m     \u001b[38;5;28mself\u001b[39m\u001b[38;5;241m.\u001b[39mip_dict \u001b[38;5;241m=\u001b[39m \u001b[38;5;28mself\u001b[39m\u001b[38;5;241m.\u001b[39mparser\u001b[38;5;241m.\u001b[39mip_dict\n",
      "File \u001b[0;32m/usr/local/share/pynq-venv/lib/python3.10/site-packages/pynq/pl_server/embedded_device.py:690\u001b[0m, in \u001b[0;36mEmbeddedDevice.get_bitfile_metadata\u001b[0;34m(self, bitfile_name, partial)\u001b[0m\n\u001b[1;32m    689\u001b[0m \u001b[38;5;28;01mdef\u001b[39;00m \u001b[38;5;21mget_bitfile_metadata\u001b[39m(\u001b[38;5;28mself\u001b[39m, bitfile_name:\u001b[38;5;28mstr\u001b[39m, partial:\u001b[38;5;28mbool\u001b[39m\u001b[38;5;241m=\u001b[39m\u001b[38;5;28;01mFalse\u001b[39;00m):\n\u001b[0;32m--> 690\u001b[0m     parser \u001b[38;5;241m=\u001b[39m \u001b[43m_get_bitstream_handler\u001b[49m\u001b[43m(\u001b[49m\u001b[43mbitfile_name\u001b[49m\u001b[43m)\u001b[49m\u001b[38;5;241;43m.\u001b[39;49m\u001b[43mget_parser\u001b[49m\u001b[43m(\u001b[49m\u001b[43mpartial\u001b[49m\u001b[38;5;241;43m=\u001b[39;49m\u001b[43mpartial\u001b[49m\u001b[43m)\u001b[49m\n\u001b[1;32m    691\u001b[0m     \u001b[38;5;28;01mif\u001b[39;00m parser \u001b[38;5;129;01mis\u001b[39;00m \u001b[38;5;28;01mNone\u001b[39;00m:\n\u001b[1;32m    692\u001b[0m         \u001b[38;5;28;01mraise\u001b[39;00m \u001b[38;5;167;01mRuntimeError\u001b[39;00m(\u001b[38;5;124m\"\u001b[39m\u001b[38;5;124mUnable to find metadata for bitstream\u001b[39m\u001b[38;5;124m\"\u001b[39m)\n",
      "File \u001b[0;32m/usr/local/share/pynq-venv/lib/python3.10/site-packages/pynq/pl_server/embedded_device.py:256\u001b[0m, in \u001b[0;36mBitstreamHandler.get_parser\u001b[0;34m(self, partial)\u001b[0m\n\u001b[1;32m    254\u001b[0m         parser \u001b[38;5;241m=\u001b[39m RuntimeMetadataParser(Metadata(\u001b[38;5;28minput\u001b[39m\u001b[38;5;241m=\u001b[39m\u001b[38;5;28mself\u001b[39m\u001b[38;5;241m.\u001b[39m_filepath\u001b[38;5;241m.\u001b[39mwith_suffix(\u001b[38;5;124m\"\u001b[39m\u001b[38;5;124m.hwh\u001b[39m\u001b[38;5;124m\"\u001b[39m)))\n\u001b[1;32m    255\u001b[0m     \u001b[38;5;28;01mexcept\u001b[39;00m:\n\u001b[0;32m--> 256\u001b[0m         \u001b[38;5;28;01mraise\u001b[39;00m \u001b[38;5;167;01mRuntimeError\u001b[39;00m(\u001b[38;5;124mf\u001b[39m\u001b[38;5;124m\"\u001b[39m\u001b[38;5;124mUnable to parse metadata\u001b[39m\u001b[38;5;124m\"\u001b[39m)\n\u001b[1;32m    258\u001b[0m \u001b[38;5;28;01mif\u001b[39;00m xclbin_data \u001b[38;5;129;01mis\u001b[39;00m \u001b[38;5;28;01mNone\u001b[39;00m:\n\u001b[1;32m    259\u001b[0m     xclbin_data \u001b[38;5;241m=\u001b[39m _create_xclbin(parser\u001b[38;5;241m.\u001b[39mmem_dict)\n",
      "\u001b[0;31mRuntimeError\u001b[0m: Unable to parse metadata"
     ]
    }
   ],
   "source": [
    "from pynq import Overlay\n",
    "import numpy as np\n",
    "import random\n",
    "from pynq import allocate\n",
    "\n",
    "overlay = Overlay('/home/xilinx/pynq/overlays/coe_Test/coe_Test.bit')\n",
    "overlay?"
   ]
  },
  {
   "cell_type": "code",
   "execution_count": 10,
   "id": "e013f41d",
   "metadata": {},
   "outputs": [],
   "source": [
    "dma = overlay.equalizer.axi_dma_0\n",
    "input_buffer = allocate(shape=(33,), dtype=np.int32)\n",
    "output_buffer = allocate(shape=(33,), dtype=np.int32)"
   ]
  },
  {
   "cell_type": "code",
   "execution_count": 4,
   "id": "fdc08ca0",
   "metadata": {},
   "outputs": [
    {
     "name": "stdout",
     "output_type": "stream",
     "text": [
      "[ 0  1  2  3  4  5  6  7  8  9 10 11 12 13 14 15 16 17 18 19 20 21 22 23\n",
      " 24 25 26 27 28 29 30 31 32]\n"
     ]
    }
   ],
   "source": [
    "for i in range(33):\n",
    "    input_buffer[i] = i\n",
    "\n",
    "print(input_buffer)"
   ]
  },
  {
   "cell_type": "code",
   "execution_count": 5,
   "id": "ea0f6489",
   "metadata": {},
   "outputs": [],
   "source": [
    "def run_kernel():\n",
    "    dma.sendchannel.transfer(input_buffer)\n",
    "    print(1)\n",
    "    dma.recvchannel.transfer(output_buffer)\n",
    "    print(2)\n",
    "    dma.sendchannel.wait()\n",
    "    print(3)\n",
    "    dma.recvchannel.wait()\n",
    "    print(4)"
   ]
  },
  {
   "cell_type": "code",
   "execution_count": null,
   "id": "450e0954",
   "metadata": {},
   "outputs": [],
   "source": [
    "run_kernel()"
   ]
  },
  {
   "cell_type": "code",
   "execution_count": null,
   "id": "c66b11e3",
   "metadata": {},
   "outputs": [],
   "source": [
    "print(output_buffer)"
   ]
  }
 ],
 "metadata": {
  "kernelspec": {
   "display_name": "Python 3 (ipykernel)",
   "language": "python",
   "name": "python3"
  },
  "language_info": {
   "codemirror_mode": {
    "name": "ipython",
    "version": 3
   },
   "file_extension": ".py",
   "mimetype": "text/x-python",
   "name": "python",
   "nbconvert_exporter": "python",
   "pygments_lexer": "ipython3",
   "version": "3.10.4"
  }
 },
 "nbformat": 4,
 "nbformat_minor": 5
}
