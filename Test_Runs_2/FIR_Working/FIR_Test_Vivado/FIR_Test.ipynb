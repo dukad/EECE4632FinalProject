{
 "cells": [
  {
   "cell_type": "code",
   "execution_count": 2,
   "id": "d1f387bb",
   "metadata": {},
   "outputs": [],
   "source": [
    "from pynq import Overlay\n",
    "import numpy as np\n",
    "import random\n",
    "from pynq import allocate\n",
    "\n",
    "overlay = Overlay('/home/xilinx/pynq/overlays/FIR_Test/FIR_Test.bit')\n",
    "overlay?"
   ]
  },
  {
   "cell_type": "code",
   "execution_count": 3,
   "id": "554ac45d",
   "metadata": {},
   "outputs": [],
   "source": [
    "dma = overlay.firDMA.axi_dma_0\n",
    "input_buffer = allocate(shape=(11,), dtype=np.int32)\n",
    "output_buffer = allocate(shape=(11,), dtype=np.int32)"
   ]
  },
  {
   "cell_type": "code",
   "execution_count": 4,
   "id": "b0b50c57",
   "metadata": {},
   "outputs": [
    {
     "name": "stdout",
     "output_type": "stream",
     "text": [
      "[ 0  1  2  3  4  5  6  7  8  9 10]\n"
     ]
    }
   ],
   "source": [
    "for i in range(len(input_buffer)):\n",
    "    input_buffer[i] = i\n",
    "\n",
    "print(input_buffer)"
   ]
  },
  {
   "cell_type": "code",
   "execution_count": 5,
   "id": "86c369e1",
   "metadata": {},
   "outputs": [],
   "source": [
    "def run_kernel():\n",
    "    dma.sendchannel.transfer(input_buffer)\n",
    "    dma.recvchannel.transfer(output_buffer)\n",
    "    dma.sendchannel.wait()\n",
    "    dma.recvchannel.wait()"
   ]
  },
  {
   "cell_type": "code",
   "execution_count": 6,
   "id": "129824a9",
   "metadata": {},
   "outputs": [],
   "source": [
    "run_kernel()"
   ]
  },
  {
   "cell_type": "code",
   "execution_count": 7,
   "id": "bf848466",
   "metadata": {},
   "outputs": [
    {
     "name": "stdout",
     "output_type": "stream",
     "text": [
      "[      0   65537  196611  393222  655370  983055 1310741 1638427 1966113\n",
      " 2293799 2621485]\n"
     ]
    }
   ],
   "source": [
    "print(output_buffer)"
   ]
  },
  {
   "cell_type": "code",
   "execution_count": null,
   "id": "c2ff30d7",
   "metadata": {},
   "outputs": [],
   "source": []
  }
 ],
 "metadata": {
  "kernelspec": {
   "display_name": "Python 3 (ipykernel)",
   "language": "python",
   "name": "python3"
  },
  "language_info": {
   "codemirror_mode": {
    "name": "ipython",
    "version": 3
   },
   "file_extension": ".py",
   "mimetype": "text/x-python",
   "name": "python",
   "nbconvert_exporter": "python",
   "pygments_lexer": "ipython3",
   "version": "3.10.4"
  }
 },
 "nbformat": 4,
 "nbformat_minor": 5
}
